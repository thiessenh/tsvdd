{
 "cells": [
  {
   "cell_type": "markdown",
   "metadata": {},
   "source": [
    "# Example notebook\n",
    "In this notebook we'll look at how to use t(s)SVDD in an anomaly detection task."
   ]
  },
  {
   "cell_type": "code",
   "execution_count": 1,
   "metadata": {},
   "outputs": [],
   "source": [
    "import pandas as pd\n",
    "import numpy as np"
   ]
  },
  {
   "cell_type": "markdown",
   "metadata": {},
   "source": [
    "First, let's get some data. We'll use the ECG200 data set from https://www.timeseriesclassification.com/. "
   ]
  },
  {
   "cell_type": "code",
   "execution_count": 2,
   "metadata": {},
   "outputs": [],
   "source": [
    "from io import BytesIO\n",
    "from zipfile import ZipFile\n",
    "from urllib.request import urlopen\n",
    "\n",
    "resp = urlopen('https://www.timeseriesclassification.com/Downloads/ECG200.zip')\n",
    "zipfile = ZipFile(BytesIO(resp.read()))\n",
    "train = pd.read_csv(zipfile.open('ECG200_TRAIN.txt'), header=None, delim_whitespace=True)\n",
    "test = pd.read_csv(zipfile.open('ECG200_TEST.txt'), header=None, delim_whitespace=True)\n",
    "df = pd.concat([train, test])"
   ]
  },
  {
   "cell_type": "markdown",
   "metadata": {},
   "source": [
    "The data set consists of normal (+1) and anoamlous (-1) heart beat recordings."
   ]
  },
  {
   "cell_type": "code",
   "execution_count": 3,
   "metadata": {},
   "outputs": [
    {
     "data": {
      "text/html": [
       "<div>\n",
       "<style scoped>\n",
       "    .dataframe tbody tr th:only-of-type {\n",
       "        vertical-align: middle;\n",
       "    }\n",
       "\n",
       "    .dataframe tbody tr th {\n",
       "        vertical-align: top;\n",
       "    }\n",
       "\n",
       "    .dataframe thead th {\n",
       "        text-align: right;\n",
       "    }\n",
       "</style>\n",
       "<table border=\"1\" class=\"dataframe\">\n",
       "  <thead>\n",
       "    <tr style=\"text-align: right;\">\n",
       "      <th></th>\n",
       "      <th>0</th>\n",
       "      <th>1</th>\n",
       "      <th>2</th>\n",
       "      <th>3</th>\n",
       "      <th>4</th>\n",
       "      <th>5</th>\n",
       "      <th>6</th>\n",
       "      <th>7</th>\n",
       "      <th>8</th>\n",
       "      <th>9</th>\n",
       "      <th>...</th>\n",
       "      <th>87</th>\n",
       "      <th>88</th>\n",
       "      <th>89</th>\n",
       "      <th>90</th>\n",
       "      <th>91</th>\n",
       "      <th>92</th>\n",
       "      <th>93</th>\n",
       "      <th>94</th>\n",
       "      <th>95</th>\n",
       "      <th>96</th>\n",
       "    </tr>\n",
       "  </thead>\n",
       "  <tbody>\n",
       "    <tr>\n",
       "      <th>95</th>\n",
       "      <td>1.0</td>\n",
       "      <td>0.843834</td>\n",
       "      <td>2.564764</td>\n",
       "      <td>3.343127</td>\n",
       "      <td>2.591811</td>\n",
       "      <td>1.989914</td>\n",
       "      <td>0.441743</td>\n",
       "      <td>0.356408</td>\n",
       "      <td>1.283447</td>\n",
       "      <td>0.820812</td>\n",
       "      <td>...</td>\n",
       "      <td>-0.243969</td>\n",
       "      <td>-0.242760</td>\n",
       "      <td>-0.356488</td>\n",
       "      <td>-0.245672</td>\n",
       "      <td>-0.184878</td>\n",
       "      <td>-0.277344</td>\n",
       "      <td>-0.105103</td>\n",
       "      <td>-0.169774</td>\n",
       "      <td>-0.023764</td>\n",
       "      <td>0.258732</td>\n",
       "    </tr>\n",
       "    <tr>\n",
       "      <th>96</th>\n",
       "      <td>1.0</td>\n",
       "      <td>1.398472</td>\n",
       "      <td>2.874771</td>\n",
       "      <td>3.453428</td>\n",
       "      <td>2.897919</td>\n",
       "      <td>1.260043</td>\n",
       "      <td>0.173332</td>\n",
       "      <td>1.289293</td>\n",
       "      <td>1.470054</td>\n",
       "      <td>1.028398</td>\n",
       "      <td>...</td>\n",
       "      <td>-0.406242</td>\n",
       "      <td>-0.525755</td>\n",
       "      <td>-0.439422</td>\n",
       "      <td>-0.398495</td>\n",
       "      <td>-0.366739</td>\n",
       "      <td>-0.399198</td>\n",
       "      <td>-0.401109</td>\n",
       "      <td>-0.371077</td>\n",
       "      <td>-0.451180</td>\n",
       "      <td>-0.100215</td>\n",
       "    </tr>\n",
       "    <tr>\n",
       "      <th>97</th>\n",
       "      <td>-1.0</td>\n",
       "      <td>1.113685</td>\n",
       "      <td>1.275951</td>\n",
       "      <td>1.171770</td>\n",
       "      <td>1.554551</td>\n",
       "      <td>2.280557</td>\n",
       "      <td>2.636614</td>\n",
       "      <td>2.514625</td>\n",
       "      <td>2.363170</td>\n",
       "      <td>2.290844</td>\n",
       "      <td>...</td>\n",
       "      <td>0.484357</td>\n",
       "      <td>0.474087</td>\n",
       "      <td>0.323893</td>\n",
       "      <td>0.387200</td>\n",
       "      <td>0.575901</td>\n",
       "      <td>0.426197</td>\n",
       "      <td>0.077527</td>\n",
       "      <td>0.148549</td>\n",
       "      <td>0.479638</td>\n",
       "      <td>0.358700</td>\n",
       "    </tr>\n",
       "    <tr>\n",
       "      <th>98</th>\n",
       "      <td>-1.0</td>\n",
       "      <td>2.318208</td>\n",
       "      <td>2.139772</td>\n",
       "      <td>1.794243</td>\n",
       "      <td>2.344508</td>\n",
       "      <td>1.724400</td>\n",
       "      <td>0.431501</td>\n",
       "      <td>-0.464933</td>\n",
       "      <td>-0.542414</td>\n",
       "      <td>-0.830620</td>\n",
       "      <td>...</td>\n",
       "      <td>-0.099292</td>\n",
       "      <td>-0.239948</td>\n",
       "      <td>-0.065850</td>\n",
       "      <td>-0.090294</td>\n",
       "      <td>-0.234900</td>\n",
       "      <td>-0.032727</td>\n",
       "      <td>-0.102668</td>\n",
       "      <td>-0.064539</td>\n",
       "      <td>0.285008</td>\n",
       "      <td>0.470914</td>\n",
       "    </tr>\n",
       "    <tr>\n",
       "      <th>99</th>\n",
       "      <td>1.0</td>\n",
       "      <td>2.395329</td>\n",
       "      <td>3.283697</td>\n",
       "      <td>2.918598</td>\n",
       "      <td>2.279072</td>\n",
       "      <td>1.393210</td>\n",
       "      <td>0.592044</td>\n",
       "      <td>0.044003</td>\n",
       "      <td>0.110276</td>\n",
       "      <td>0.198213</td>\n",
       "      <td>...</td>\n",
       "      <td>-0.049051</td>\n",
       "      <td>-0.099085</td>\n",
       "      <td>0.027991</td>\n",
       "      <td>0.141353</td>\n",
       "      <td>0.085650</td>\n",
       "      <td>0.005304</td>\n",
       "      <td>0.149875</td>\n",
       "      <td>0.103510</td>\n",
       "      <td>0.072660</td>\n",
       "      <td>0.215942</td>\n",
       "    </tr>\n",
       "  </tbody>\n",
       "</table>\n",
       "<p>5 rows × 97 columns</p>\n",
       "</div>"
      ],
      "text/plain": [
       "     0         1         2         3         4         5         6         7   \\\n",
       "95  1.0  0.843834  2.564764  3.343127  2.591811  1.989914  0.441743  0.356408   \n",
       "96  1.0  1.398472  2.874771  3.453428  2.897919  1.260043  0.173332  1.289293   \n",
       "97 -1.0  1.113685  1.275951  1.171770  1.554551  2.280557  2.636614  2.514625   \n",
       "98 -1.0  2.318208  2.139772  1.794243  2.344508  1.724400  0.431501 -0.464933   \n",
       "99  1.0  2.395329  3.283697  2.918598  2.279072  1.393210  0.592044  0.044003   \n",
       "\n",
       "          8         9   ...        87        88        89        90        91  \\\n",
       "95  1.283447  0.820812  ... -0.243969 -0.242760 -0.356488 -0.245672 -0.184878   \n",
       "96  1.470054  1.028398  ... -0.406242 -0.525755 -0.439422 -0.398495 -0.366739   \n",
       "97  2.363170  2.290844  ...  0.484357  0.474087  0.323893  0.387200  0.575901   \n",
       "98 -0.542414 -0.830620  ... -0.099292 -0.239948 -0.065850 -0.090294 -0.234900   \n",
       "99  0.110276  0.198213  ... -0.049051 -0.099085  0.027991  0.141353  0.085650   \n",
       "\n",
       "          92        93        94        95        96  \n",
       "95 -0.277344 -0.105103 -0.169774 -0.023764  0.258732  \n",
       "96 -0.399198 -0.401109 -0.371077 -0.451180 -0.100215  \n",
       "97  0.426197  0.077527  0.148549  0.479638  0.358700  \n",
       "98 -0.032727 -0.102668 -0.064539  0.285008  0.470914  \n",
       "99  0.005304  0.149875  0.103510  0.072660  0.215942  \n",
       "\n",
       "[5 rows x 97 columns]"
      ]
     },
     "execution_count": 3,
     "metadata": {},
     "output_type": "execute_result"
    }
   ],
   "source": [
    "X = df.iloc[:, 1:]\n",
    "y = df.iloc[:, 0]\n",
    "df.tail()"
   ]
  },
  {
   "cell_type": "code",
   "execution_count": 4,
   "metadata": {},
   "outputs": [
    {
     "data": {
      "image/png": "[encoded data removed]",
      "text/plain": [
       "<Figure size 432x288 with 1 Axes>"
      ]
     },
     "metadata": {
      "needs_background": "light"
     },
     "output_type": "display_data"
    }
   ],
   "source": [
    "import matplotlib.pyplot as plt\n",
    "\n",
    "plt.plot(X[df[0]==1].iloc[1], label='Normal heart beat')\n",
    "plt.plot(X[df[0]==-1].iloc[2], label='Anoamlous heart beat')\n",
    "plt.legend()\n",
    "plt.show()"
   ]
  },
  {
   "cell_type": "markdown",
   "metadata": {},
   "source": [
    "Let's create a training set with 80% of the normal data and add 5% outliers. We regard the reamining data as test data. "
   ]
  },
  {
   "cell_type": "code",
   "execution_count": 5,
   "metadata": {
    "tags": []
   },
   "outputs": [],
   "source": [
    "NORMAL_RATIO = 0.8\n",
    "OUTLIER_RATIO = 0.05\n",
    "normal_index = y[y==1].index\n",
    "outlier_index = y[y==-1].index\n",
    "n_normal = int(len(normal_index) * NORMAL_RATIO)\n",
    "n_outlier = int(n_normal / (1 - OUTLIER_RATIO)) - n_normal\n",
    "\n",
    "rng = np.random.default_rng(42)\n",
    "train_normal_index = pd.Int64Index(rng.choice(normal_index, n_normal, replace=False))\n",
    "train_outlier_index = pd.Int64Index(rng.choice(outlier_index, n_outlier, replace=False))\n",
    "\n",
    "train_index = train_normal_index.union(train_outlier_index)\n",
    "\n",
    "test_normal_index = normal_index.drop(train_normal_index)  \n",
    "test_outlier_index = outlier_index.drop(train_outlier_index)\n",
    "test_index = test_normal_index.union(test_outlier_index)\n",
    "\n",
    "X_train = X.iloc[train_index]\n",
    "X_test = X.iloc[test_index]\n",
    "y_train = y.iloc[train_index]\n",
    "y_test = y.iloc[test_index]"
   ]
  },
  {
   "cell_type": "markdown",
   "metadata": {},
   "source": [
    "Use tsvdd's SVDD as known from scikit-learn."
   ]
  },
  {
   "cell_type": "code",
   "execution_count": 6,
   "metadata": {},
   "outputs": [],
   "source": [
    "from tsvdd import SVDD\n",
    "svdd = SVDD(nu=OUTLIER_RATIO)\n",
    "svdd.fit(X_train)\n",
    "y_pred = svdd.predict(X_train)"
   ]
  },
  {
   "cell_type": "code",
   "execution_count": 7,
   "metadata": {},
   "outputs": [
    {
     "data": {
      "text/html": [
       "<div>\n",
       "<style scoped>\n",
       "    .dataframe tbody tr th:only-of-type {\n",
       "        vertical-align: middle;\n",
       "    }\n",
       "\n",
       "    .dataframe tbody tr th {\n",
       "        vertical-align: top;\n",
       "    }\n",
       "\n",
       "    .dataframe thead th {\n",
       "        text-align: right;\n",
       "    }\n",
       "</style>\n",
       "<table border=\"1\" class=\"dataframe\">\n",
       "  <thead>\n",
       "    <tr style=\"text-align: right;\">\n",
       "      <th></th>\n",
       "      <th>1</th>\n",
       "      <th>-1</th>\n",
       "    </tr>\n",
       "  </thead>\n",
       "  <tbody>\n",
       "    <tr>\n",
       "      <th>1</th>\n",
       "      <td>81</td>\n",
       "      <td>4</td>\n",
       "    </tr>\n",
       "    <tr>\n",
       "      <th>-1</th>\n",
       "      <td>20</td>\n",
       "      <td>3</td>\n",
       "    </tr>\n",
       "  </tbody>\n",
       "</table>\n",
       "</div>"
      ],
      "text/plain": [
       "     1  -1\n",
       " 1  81   4\n",
       "-1  20   3"
      ]
     },
     "execution_count": 7,
     "metadata": {},
     "output_type": "execute_result"
    }
   ],
   "source": [
    "from sklearn.metrics import confusion_matrix\n",
    "conf_matrix = confusion_matrix(y_train, y_pred, labels=[+1, -1])  \n",
    "conf_df = pd.DataFrame(conf_matrix, columns=[+1, -1], index=[1, -1])\n",
    "conf_df"
   ]
  },
  {
   "cell_type": "markdown",
   "metadata": {},
   "source": [
    "Except for $C$ (internally determined by $\\nu$), the Gaussian-like GA kernel has the $\\sigma$ parameter. "
   ]
  },
  {
   "cell_type": "code",
   "execution_count": 8,
   "metadata": {},
   "outputs": [],
   "source": [
    "from tsvdd.utils import sampled_gak_sigma\n",
    "sigmas = sampled_gak_sigma(X_train, X_train.shape[0])\n",
    "param_grid = {\"sigma\": sigmas}"
   ]
  },
  {
   "cell_type": "markdown",
   "metadata": {},
   "source": [
    "SVDD adopts scikit-learn's API and duck typing, thus we can use the usual hyperparameter methods such as a grid search.  "
   ]
  },
  {
   "cell_type": "code",
   "execution_count": 9,
   "metadata": {},
   "outputs": [],
   "source": [
    "from sklearn.model_selection import GridSearchCV\n",
    "search = GridSearchCV(SVDD(), param_grid, cv=[(slice(None), slice(None))], scoring='balanced_accuracy')\n",
    "search = search.fit(X_train, y_train)"
   ]
  },
  {
   "cell_type": "code",
   "execution_count": 10,
   "metadata": {},
   "outputs": [
    {
     "data": {
      "text/plain": [
       "{'mean_fit_time': array([0.39157915, 0.38063741, 0.37757397, 0.37932491, 0.37794399]),\n",
       " 'std_fit_time': array([0., 0., 0., 0., 0.]),\n",
       " 'mean_score_time': array([0.00106835, 0.00097108, 0.00095081, 0.00107074, 0.00094724]),\n",
       " 'std_score_time': array([0., 0., 0., 0., 0.]),\n",
       " 'param_sigma': masked_array(data=[0.3662533974854092, 3.6625339748540915,\n",
       "                    7.325067949708183, 18.31266987427046,\n",
       "                    36.62533974854092],\n",
       "              mask=[False, False, False, False, False],\n",
       "        fill_value='?',\n",
       "             dtype=object),\n",
       " 'params': [{'sigma': 0.3662533974854092},\n",
       "  {'sigma': 3.6625339748540915},\n",
       "  {'sigma': 7.325067949708183},\n",
       "  {'sigma': 18.31266987427046},\n",
       "  {'sigma': 36.62533974854092}],\n",
       " 'split0_test_score': array([0.5173913 , 0.68030691, 0.64040921, 0.56930946, 0.54757033]),\n",
       " 'mean_test_score': array([0.5173913 , 0.68030691, 0.64040921, 0.56930946, 0.54757033]),\n",
       " 'std_test_score': array([0., 0., 0., 0., 0.]),\n",
       " 'rank_test_score': array([5, 1, 2, 3, 4], dtype=int32)}"
      ]
     },
     "execution_count": 10,
     "metadata": {},
     "output_type": "execute_result"
    }
   ],
   "source": [
    "search.cv_results_"
   ]
  },
  {
   "cell_type": "code",
   "execution_count": 11,
   "metadata": {},
   "outputs": [
    {
     "data": {
      "text/html": [
       "<div>\n",
       "<style scoped>\n",
       "    .dataframe tbody tr th:only-of-type {\n",
       "        vertical-align: middle;\n",
       "    }\n",
       "\n",
       "    .dataframe tbody tr th {\n",
       "        vertical-align: top;\n",
       "    }\n",
       "\n",
       "    .dataframe thead th {\n",
       "        text-align: right;\n",
       "    }\n",
       "</style>\n",
       "<table border=\"1\" class=\"dataframe\">\n",
       "  <thead>\n",
       "    <tr style=\"text-align: right;\">\n",
       "      <th></th>\n",
       "      <th>1</th>\n",
       "      <th>-1</th>\n",
       "    </tr>\n",
       "  </thead>\n",
       "  <tbody>\n",
       "    <tr>\n",
       "      <th>1</th>\n",
       "      <td>75</td>\n",
       "      <td>10</td>\n",
       "    </tr>\n",
       "    <tr>\n",
       "      <th>-1</th>\n",
       "      <td>12</td>\n",
       "      <td>11</td>\n",
       "    </tr>\n",
       "  </tbody>\n",
       "</table>\n",
       "</div>"
      ],
      "text/plain": [
       "     1  -1\n",
       " 1  75  10\n",
       "-1  12  11"
      ]
     },
     "execution_count": 11,
     "metadata": {},
     "output_type": "execute_result"
    }
   ],
   "source": [
    "y_pred = search.best_estimator_.predict(X_train)\n",
    "conf_matrix = confusion_matrix(y_train, y_pred, labels=[+1, -1])  \n",
    "conf_df = pd.DataFrame(conf_matrix, columns=[+1, -1], index=[1, -1])\n",
    "conf_df"
   ]
  },
  {
   "cell_type": "markdown",
   "metadata": {},
   "source": [
    "Although, SVDD beeing an unsupervised method, it provides a predict function."
   ]
  },
  {
   "cell_type": "code",
   "execution_count": 12,
   "metadata": {},
   "outputs": [
    {
     "data": {
      "text/html": [
       "<div>\n",
       "<style scoped>\n",
       "    .dataframe tbody tr th:only-of-type {\n",
       "        vertical-align: middle;\n",
       "    }\n",
       "\n",
       "    .dataframe tbody tr th {\n",
       "        vertical-align: top;\n",
       "    }\n",
       "\n",
       "    .dataframe thead th {\n",
       "        text-align: right;\n",
       "    }\n",
       "</style>\n",
       "<table border=\"1\" class=\"dataframe\">\n",
       "  <thead>\n",
       "    <tr style=\"text-align: right;\">\n",
       "      <th></th>\n",
       "      <th>1</th>\n",
       "      <th>-1</th>\n",
       "    </tr>\n",
       "  </thead>\n",
       "  <tbody>\n",
       "    <tr>\n",
       "      <th>1</th>\n",
       "      <td>21</td>\n",
       "      <td>6</td>\n",
       "    </tr>\n",
       "    <tr>\n",
       "      <th>-1</th>\n",
       "      <td>13</td>\n",
       "      <td>22</td>\n",
       "    </tr>\n",
       "  </tbody>\n",
       "</table>\n",
       "</div>"
      ],
      "text/plain": [
       "     1  -1\n",
       " 1  21   6\n",
       "-1  13  22"
      ]
     },
     "execution_count": 12,
     "metadata": {},
     "output_type": "execute_result"
    }
   ],
   "source": [
    "y_pred = search.best_estimator_.predict(X_test)\n",
    "conf_matrix = confusion_matrix(y_test, y_pred, labels=[+1, -1])  \n",
    "conf_df = pd.DataFrame(conf_matrix, columns=[+1, -1], index=[1, -1])\n",
    "conf_df"
   ]
  },
  {
   "cell_type": "code",
   "execution_count": null,
   "metadata": {},
   "outputs": [],
   "source": []
  }
 ],
 "metadata": {
  "kernelspec": {
   "display_name": "Python3",
   "language": "python",
   "name": "Python3"
  },
  "language_info": {
   "codemirror_mode": {
    "name": "ipython",
    "version": 3
   },
   "file_extension": ".py",
   "mimetype": "text/x-python",
   "name": "python",
   "nbconvert_exporter": "python",
   "pygments_lexer": "ipython3",
   "version": "3.8.5"
  }
 },
 "nbformat": 4,
 "nbformat_minor": 4
}
